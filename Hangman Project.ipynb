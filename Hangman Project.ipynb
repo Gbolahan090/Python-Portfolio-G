{
 "cells": [
  {
   "cell_type": "markdown",
   "id": "5fd60128-5f83-4390-b12b-22cbfd619906",
   "metadata": {},
   "source": [
    "This game is called Hangman. to play it you must guess the word 6 tries"
   ]
  },
  {
   "cell_type": "code",
   "execution_count": 1,
   "id": "a4226513-047c-4016-9f3b-51471e81f594",
   "metadata": {},
   "outputs": [],
   "source": [
    "import random as r\n",
    "\n",
    "def choose_word():\n",
    "    words = [\"python\", \"hangman\", \"programming\", \"developer\", \"coding\"]\n",
    "    return r.choice(words)"
   ]
  },
  {
   "cell_type": "code",
   "execution_count": 2,
   "id": "c82ce542-ae4f-4d10-986d-d2bde4a64242",
   "metadata": {},
   "outputs": [],
   "source": [
    "def display_word(word, guessed_letters):\n",
    "    display = \"\"\n",
    "    for letter in word:\n",
    "        if letter in guessed_letters:\n",
    "            display += letter\n",
    "        else:\n",
    "            display += \"_\"\n",
    "    return display\n"
   ]
  },
  {
   "cell_type": "code",
   "execution_count": 3,
   "id": "83b13a4f-51f1-4dd4-bc7b-8e5ee5fd5c06",
   "metadata": {},
   "outputs": [],
   "source": [
    "def hangman():\n",
    "    word_to_guess = choose_word()\n",
    "    guessed_letters = []\n",
    "    max_attempts = 6  # Adjust as needed\n",
    "\n",
    "    print(\"Welcome to Hangman! you have\", max_attempts, \"to guess the word\")\n",
    "\n",
    "    while max_attempts > 0:\n",
    "        current_display = display_word(word_to_guess, guessed_letters)\n",
    "        print(f\"Word: {current_display} has {len(current_display)} letters\")\n",
    "        guess = input(\"Guess a letter: \").lower()\n",
    "\n",
    "        if guess in guessed_letters:\n",
    "            print(\"You already guessed that letter. Try again.\")\n",
    "            continue\n",
    "\n",
    "        guessed_letters.append(guess)\n",
    "\n",
    "        if guess not in word_to_guess:\n",
    "            max_attempts -= 1\n",
    "            print(f\"Incorrect! {max_attempts} attempts remaining.\")\n",
    "            # Add logic to display the hangman figure\n",
    "\n",
    "        if set(word_to_guess) <= set(guessed_letters):\n",
    "            print(\"Congratulations! You guessed the word.\")\n",
    "            break\n",
    "\n",
    "    if max_attempts == 0:\n",
    "        print(f\"Sorry, you ran out of attempts. The word was {word_to_guess}.\")"
   ]
  },
  {
   "cell_type": "code",
   "execution_count": 4,
   "id": "0af4ebef-89aa-4fa6-a23d-b30f69e949c2",
   "metadata": {},
   "outputs": [
    {
     "name": "stdout",
     "output_type": "stream",
     "text": [
      "Welcome to Hangman! you have 6 to guess the word\n",
      "Word: ______ has 6\n"
     ]
    },
    {
     "name": "stdin",
     "output_type": "stream",
     "text": [
      "Guess a letter:  p\n"
     ]
    },
    {
     "name": "stdout",
     "output_type": "stream",
     "text": [
      "Incorrect! 5 attempts remaining.\n",
      "Word: ______ has 6\n"
     ]
    },
    {
     "name": "stdin",
     "output_type": "stream",
     "text": [
      "Guess a letter:  o\n"
     ]
    },
    {
     "name": "stdout",
     "output_type": "stream",
     "text": [
      "Word: _o____ has 6\n"
     ]
    },
    {
     "name": "stdin",
     "output_type": "stream",
     "text": [
      "Guess a letter:  s\n"
     ]
    },
    {
     "name": "stdout",
     "output_type": "stream",
     "text": [
      "Incorrect! 4 attempts remaining.\n",
      "Word: _o____ has 6\n"
     ]
    },
    {
     "name": "stdin",
     "output_type": "stream",
     "text": [
      "Guess a letter:  t\n"
     ]
    },
    {
     "name": "stdout",
     "output_type": "stream",
     "text": [
      "Incorrect! 3 attempts remaining.\n",
      "Word: _o____ has 6\n"
     ]
    },
    {
     "name": "stdin",
     "output_type": "stream",
     "text": [
      "Guess a letter:  c\n"
     ]
    },
    {
     "name": "stdout",
     "output_type": "stream",
     "text": [
      "Word: co____ has 6\n"
     ]
    },
    {
     "name": "stdin",
     "output_type": "stream",
     "text": [
      "Guess a letter:  d\n"
     ]
    },
    {
     "name": "stdout",
     "output_type": "stream",
     "text": [
      "Word: cod___ has 6\n"
     ]
    },
    {
     "name": "stdin",
     "output_type": "stream",
     "text": [
      "Guess a letter:  n\n"
     ]
    },
    {
     "name": "stdout",
     "output_type": "stream",
     "text": [
      "Word: cod_n_ has 6\n"
     ]
    },
    {
     "name": "stdin",
     "output_type": "stream",
     "text": [
      "Guess a letter:  g\n"
     ]
    },
    {
     "name": "stdout",
     "output_type": "stream",
     "text": [
      "Word: cod_ng has 6\n"
     ]
    },
    {
     "name": "stdin",
     "output_type": "stream",
     "text": [
      "Guess a letter:  i\n"
     ]
    },
    {
     "name": "stdout",
     "output_type": "stream",
     "text": [
      "Congratulations! You guessed the word.\n"
     ]
    }
   ],
   "source": [
    "hangman()"
   ]
  },
  {
   "cell_type": "markdown",
   "id": "e356b200-672b-423d-b4c5-3a60bcf29a12",
   "metadata": {},
   "source": []
  },
  {
   "cell_type": "code",
   "execution_count": null,
   "id": "266adc84-2783-4b94-a6f7-b44e7d818686",
   "metadata": {},
   "outputs": [],
   "source": []
  }
 ],
 "metadata": {
  "kernelspec": {
   "display_name": "Python 3 (ipykernel)",
   "language": "python",
   "name": "python3"
  },
  "language_info": {
   "codemirror_mode": {
    "name": "ipython",
    "version": 3
   },
   "file_extension": ".py",
   "mimetype": "text/x-python",
   "name": "python",
   "nbconvert_exporter": "python",
   "pygments_lexer": "ipython3",
   "version": "3.10.12"
  }
 },
 "nbformat": 4,
 "nbformat_minor": 5
}
