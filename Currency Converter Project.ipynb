{
 "cells": [
  {
   "cell_type": "code",
   "execution_count": 1,
   "id": "2e351665",
   "metadata": {},
   "outputs": [],
   "source": [
    "# Ensure user can exit the conversion program\n",
    "def currency_conversion():\n",
    "    conversion = input(\"Would you like to convert your currency? 'Y'/'N': \")\n",
    "    while conversion.upper() not in ['Y','N']:\n",
    "        input(\"Wrong input. Would you like to convert your currency? 'Y'/'N': \")\n",
    "    if conversion.upper() == 'Y':\n",
    "        conversion_on = True\n",
    "    else:\n",
    "        conversion_on = False\n",
    "    return conversion_on"
   ]
  },
  {
   "cell_type": "code",
   "execution_count": 2,
   "id": "7b118052",
   "metadata": {},
   "outputs": [],
   "source": [
    "# Currency converter function\n",
    "def currency_converter(curr_from,curr_to,value):\n",
    "    currency[curr_from] = currency_from\n",
    "    currency[curr_to] = currency_to\n",
    "    converted_currency = round((value * (rates[currency_to] / rates[currency_from])),2)\n",
    "    \n",
    "    return converted_currency"
   ]
  },
  {
   "cell_type": "code",
   "execution_count": 6,
   "id": "308504c6",
   "metadata": {},
   "outputs": [],
   "source": [
    "# Conversion program\n",
    "import pandas as pd\n",
    "\n",
    "# 9 currencies - US Dollar, Nigerian Naira, GB Pounds, Canadian Dollar, Euro, Japanese Yen, South Afr Rand, Kuwaiti Dinar\n",
    "\n",
    "currency = ['#', 'USD - US Dollar', 'NGN - Nigerian Naira', 'GBP - Pound Sterling', 'CAD - Canadian Dollar', 'EUR - Euro', 'JPY - Japanese Yen', 'CNY - Chinese Yuan', 'ZAR - South Afr Rand', 'KWD - Kuwaiti Dinar']\n",
    "rates = {'USD - US Dollar' : 1, 'NGN - Nigerian Naira' : 812.50, 'GBP - Pound Sterling' : 0.79, 'CAD - Canadian Dollar' : 1.36, 'EUR - Euro' : 0.91, 'JPY - Japanese Yen' : 149.46, 'CNY - Chinese Yuan' : 7.09, 'ZAR - South Afr Rand' : 18.79, 'KWD - Kuwaiti Dinar' : 0.31}\n",
    "\n",
    "while currency_conversion() == True:\n",
    "\n",
    "    df = pd.DataFrame(currency)\n",
    "    print(df)\n",
    "    \n",
    "    curr_from = int(input('Choose the number corresponding to the currency you want to convert: '))\n",
    "    while curr_from not in list(range(1,10)):\n",
    "        curr_from = int(input('Wrong Input!! Choose a number from 1 - 9 : '))\n",
    "    currency_from = currency[curr_from]\n",
    "   \n",
    "    print(df)\n",
    "    curr_to = int(input('Choose the number corresponding to the currency you want to convert to: '))\n",
    "    while curr_to not in list(range(1,10)):\n",
    "        curr_to = int(input('Wrong Input!! Choose a number from 1 - 9 : '))\n",
    "    currency_to = currency[curr_to]\n",
    "    \n",
    "    value = float(input(\"Enter the value of the currency to be converted: \"))\n",
    "    \n",
    "    converted_value = currency_converter(curr_from, curr_to, value)\n",
    "    \n",
    "    print('\\n'f\"{value} {currency_from} yields {converted_value} {currency_to}\")\n",
    "    \n",
    "from IPython.display import clear_output\n",
    "clear_output()         "
   ]
  }
 ],
 "metadata": {
  "kernelspec": {
   "display_name": "Python 3 (ipykernel)",
   "language": "python",
   "name": "python3"
  },
  "language_info": {
   "codemirror_mode": {
    "name": "ipython",
    "version": 3
   },
   "file_extension": ".py",
   "mimetype": "text/x-python",
   "name": "python",
   "nbconvert_exporter": "python",
   "pygments_lexer": "ipython3",
   "version": "3.11.5"
  }
 },
 "nbformat": 4,
 "nbformat_minor": 5
}
